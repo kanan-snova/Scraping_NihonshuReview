{
 "cells": [
  {
   "cell_type": "markdown",
   "metadata": {
    "nbpresent": {
     "id": "1cf04953-2e3a-469a-bfac-e9f0ef6d2654"
    }
   },
   "source": [
    "# 口コミサイトスクレイピング"
   ]
  },
  {
   "cell_type": "markdown",
   "metadata": {
    "nbpresent": {
     "id": "8bf08c21-ee84-4d70-bd11-5121df226180"
    }
   },
   "source": [
    "対象ページ  \n",
    "[日本酒物語 日本酒ランキング（人数）](http://www.sakeno.com/followrank/) "
   ]
  },
  {
   "cell_type": "markdown",
   "metadata": {
    "nbpresent": {
     "id": "4fc0feb3-1780-4762-b6b4-dc93644026f8"
    }
   },
   "source": [
    "### 1. 使用するライブラリの読み込み\n"
   ]
  },
  {
   "cell_type": "code",
   "execution_count": 1,
   "metadata": {
    "nbpresent": {
     "id": "d284731e-a29b-43e6-a9a8-0a3bf834e900"
    }
   },
   "outputs": [],
   "source": [
    "# ファイル操作\n",
    "import glob\n",
    "import csv\n",
    "\n",
    "# データ処理\n",
    "import pandas as pd\n",
    "import numpy as np\n",
    "\n",
    "# クローラー\n",
    "import time\n",
    "from datetime import datetime\n",
    "from bs4 import BeautifulSoup\n",
    "import requests\n",
    "import urllib.parse as urlparse"
   ]
  },
  {
   "cell_type": "markdown",
   "metadata": {
    "nbpresent": {
     "id": "81db66b5-ff05-4bf3-b44f-ec3fc68d804b"
    }
   },
   "source": [
    "### 2. 定数設定\n",
    "\n",
    "　ここでは取得対象URLやスクレイピング待ち時間設定、出力先設定などを定義"
   ]
  },
  {
   "cell_type": "code",
   "execution_count": 2,
   "metadata": {
    "nbpresent": {
     "id": "d0450c37-ab4b-41b8-8170-7297d639fb1d"
    }
   },
   "outputs": [],
   "source": [
    "# 日本酒物語 日本酒ランキング（人数）の URL\n",
    "FOLLOWRANK_URL = 'http://www.sakeno.com/followrank/'\n",
    "\n",
    "# クロール時の待ち時間\n",
    "WAIT_TIME = 3\n",
    "\n",
    "# 銘柄マスタの出力先\n",
    "MEIGARA_MASTER_PATH = '../data/meigara_maseter.csv'\n",
    "# 銘柄評価スコアの出力先ディレクトリ\n",
    "MEIGARA_SCORES_DIR = '../data/meigara_scores/'\n",
    "# 銘柄コメントの出力先ディレクトリ\n",
    "MEIGARA_COMMENTS_DIR = '../data/meigara_comments/'\n"
   ]
  },
  {
   "cell_type": "markdown",
   "metadata": {
    "nbpresent": {
     "id": "2de18e22-691e-4371-b286-a7aebbf49353"
    }
   },
   "source": [
    "### 3. ランキング一覧の要素の取得と銘柄マスタ作成\n",
    "\n",
    "　ランキング一覧ページから各銘柄のデータを取得し、マスタデータを作成"
   ]
  },
  {
   "cell_type": "code",
   "execution_count": 3,
   "metadata": {},
   "outputs": [],
   "source": [
    "# パースと整形\n",
    "def parse_tr(tr):\n",
    "    # 順位\n",
    "    tds = tr.find_all('td')\n",
    "    rank = int(tds[0].get_text().split('位')[0]) \n",
    "\n",
    "    # 銘柄\n",
    "    a = tds[1].find('a')\n",
    "    meigara = a.get_text()\n",
    "    detail_url = a.get('href')\n",
    "    yomi = tds[1].find('div').string\n",
    "\n",
    "    # 酒造\n",
    "    location = tds[2].find_all('a')\n",
    "    kuramoto = location[0].string\n",
    "    prefecture = location[1].string\n",
    "    city = location[2].string\n",
    "    \n",
    "    tr_l = [\n",
    "        rank, meigara, yomi,\n",
    "        kuramoto, prefecture, \n",
    "        city,detail_url\n",
    "    ]\n",
    "    \n",
    "    return tr_l"
   ]
  },
  {
   "cell_type": "code",
   "execution_count": 4,
   "metadata": {},
   "outputs": [],
   "source": [
    "# 1ページ分の情報取得とData frame作成\n",
    "def get_ranking_info(url):\n",
    "    # 連続アクセス時の負荷軽減\n",
    "    time.sleep(WAIT_TIME)\n",
    "    \n",
    "    response = requests.get(url)\n",
    "\n",
    "    # 正しく取得できたかどうか HTTP ステータスコードで確認\n",
    "    if not response.status_code == 200:\n",
    "        raise ValueError('Invalid response')\n",
    "    else:\n",
    "        print(url,'OK.')\n",
    "    soup = BeautifulSoup(response.text, 'lxml')\n",
    "    table = soup.body.find('table')\n",
    "\n",
    "    # 先頭のゴミをカット\n",
    "    trs = table.find_all('tr')[2:]\n",
    "    \n",
    "    ranking_list = [parse_tr(tr) for tr in trs]\n",
    "    \n",
    "    meigara_master_df = pd.DataFrame(\n",
    "        ranking_list,\n",
    "        columns=['rank', 'meigara', 'yomi',\n",
    "                 'kuramoto', 'prefecture', 'city',\n",
    "                 'detail_url']\n",
    "    )\n",
    "    \n",
    "    return meigara_master_df"
   ]
  },
  {
   "cell_type": "code",
   "execution_count": 5,
   "metadata": {},
   "outputs": [
    {
     "name": "stdout",
     "output_type": "stream",
     "text": [
      "http://www.sakeno.com/followrank/?p=1 OK.\n",
      "http://www.sakeno.com/followrank/?p=2 OK.\n",
      "http://www.sakeno.com/followrank/?p=3 OK.\n",
      "http://www.sakeno.com/followrank/?p=4 OK.\n"
     ]
    }
   ],
   "source": [
    "# 全ページ（4ページ分）の情報取得\n",
    "for i in range(1,5):\n",
    "    _rank = get_ranking_info(FOLLOWRANK_URL+'?p='+str(i))\n",
    "    if i==1:\n",
    "        meigara_master_df = _rank\n",
    "    else:\n",
    "        meigara_master_df = pd.concat([meigara_master_df, _rank])"
   ]
  },
  {
   "cell_type": "code",
   "execution_count": 6,
   "metadata": {},
   "outputs": [],
   "source": [
    "# インデックスリセット\n",
    "meigara_master_df.reset_index(inplace=True,drop=True)\n",
    "\n",
    "# ユニークな連番 ID を追加\n",
    "meigara_master_df[\"meigara_id\"] = meigara_master_df.index.to_series() + 1\n",
    "meigara_master_df = meigara_master_df[\n",
    "    [\"meigara_id\",\n",
    "     \"rank\", \"meigara\", \"yomi\",\n",
    "     \"kuramoto\", \"prefecture\", \"city\",\n",
    "     \"detail_url\"]\n",
    "]"
   ]
  },
  {
   "cell_type": "code",
   "execution_count": 7,
   "metadata": {},
   "outputs": [],
   "source": [
    "# 銘柄マスタデータのCSV出力\n",
    "meigara_master_df.to_csv(\n",
    "    MEIGARA_MASTER_PATH,\n",
    "    encoding=\"utf-8\",\n",
    "    sep=\",\",\n",
    "    index=False\n",
    ")"
   ]
  },
  {
   "cell_type": "code",
   "execution_count": 8,
   "metadata": {},
   "outputs": [
    {
     "data": {
      "text/html": [
       "<div>\n",
       "<style scoped>\n",
       "    .dataframe tbody tr th:only-of-type {\n",
       "        vertical-align: middle;\n",
       "    }\n",
       "\n",
       "    .dataframe tbody tr th {\n",
       "        vertical-align: top;\n",
       "    }\n",
       "\n",
       "    .dataframe thead th {\n",
       "        text-align: right;\n",
       "    }\n",
       "</style>\n",
       "<table border=\"1\" class=\"dataframe\">\n",
       "  <thead>\n",
       "    <tr style=\"text-align: right;\">\n",
       "      <th></th>\n",
       "      <th>meigara_id</th>\n",
       "      <th>rank</th>\n",
       "      <th>meigara</th>\n",
       "      <th>yomi</th>\n",
       "      <th>kuramoto</th>\n",
       "      <th>prefecture</th>\n",
       "      <th>city</th>\n",
       "      <th>detail_url</th>\n",
       "    </tr>\n",
       "  </thead>\n",
       "  <tbody>\n",
       "    <tr>\n",
       "      <th>0</th>\n",
       "      <td>1</td>\n",
       "      <td>1</td>\n",
       "      <td>獺祭</td>\n",
       "      <td>だっさい</td>\n",
       "      <td>旭酒造（山口県）</td>\n",
       "      <td>山口県</td>\n",
       "      <td>岩国市</td>\n",
       "      <td>https://www.sakeno.com/meigara/931/</td>\n",
       "    </tr>\n",
       "    <tr>\n",
       "      <th>1</th>\n",
       "      <td>2</td>\n",
       "      <td>2</td>\n",
       "      <td>醸し人九平次</td>\n",
       "      <td>かもしびとくへいじ</td>\n",
       "      <td>萬乗醸造</td>\n",
       "      <td>愛知県</td>\n",
       "      <td>名古屋市緑区</td>\n",
       "      <td>https://www.sakeno.com/meigara/735/</td>\n",
       "    </tr>\n",
       "    <tr>\n",
       "      <th>2</th>\n",
       "      <td>3</td>\n",
       "      <td>3</td>\n",
       "      <td>田酒</td>\n",
       "      <td>でんしゅ</td>\n",
       "      <td>西田酒造店</td>\n",
       "      <td>青森県</td>\n",
       "      <td>青森市</td>\n",
       "      <td>https://www.sakeno.com/meigara/11/</td>\n",
       "    </tr>\n",
       "  </tbody>\n",
       "</table>\n",
       "</div>"
      ],
      "text/plain": [
       "   meigara_id  rank meigara       yomi  kuramoto prefecture    city  \\\n",
       "0           1     1      獺祭       だっさい  旭酒造（山口県）        山口県     岩国市   \n",
       "1           2     2  醸し人九平次  かもしびとくへいじ      萬乗醸造        愛知県  名古屋市緑区   \n",
       "2           3     3      田酒       でんしゅ     西田酒造店        青森県     青森市   \n",
       "\n",
       "                            detail_url  \n",
       "0  https://www.sakeno.com/meigara/931/  \n",
       "1  https://www.sakeno.com/meigara/735/  \n",
       "2   https://www.sakeno.com/meigara/11/  "
      ]
     },
     "execution_count": 8,
     "metadata": {},
     "output_type": "execute_result"
    }
   ],
   "source": [
    "# 銘柄マスタデータ\n",
    "meigara_master_df.head(3)"
   ]
  },
  {
   "cell_type": "markdown",
   "metadata": {},
   "source": [
    "### 4. 銘柄マスタを元に詳細情報の取得と整形\n",
    "\n",
    "　銘柄マスタのURLを元に評価ページと口コミページの情報を取得し整形する"
   ]
  },
  {
   "cell_type": "markdown",
   "metadata": {},
   "source": [
    "#### 4.1. 評価ページの取得と整形用の処理"
   ]
  },
  {
   "cell_type": "code",
   "execution_count": 9,
   "metadata": {},
   "outputs": [],
   "source": [
    "# 数値による評価データ取得関数\n",
    "def parse_scores_table(soup, meigara_id):\n",
    "    scores_table = soup.body.find_all(\"form\")[2]\n",
    "    trs = scores_table.find_all(\"tr\")\n",
    "\n",
    "    # 味\n",
    "    aji = trs[2].find_all(\"span\")\n",
    "    aji_good = int(aji[0].string)\n",
    "    aji_bad = int(aji[1].string)\n",
    "\n",
    "    # 香り\n",
    "    kaori = trs[3].find_all(\"span\")\n",
    "    kaori_good = int(kaori[0].string)\n",
    "    kaori_bad = int(kaori[1].string)\n",
    "\n",
    "    # 濃さ\n",
    "    kosa = trs[4].find_all(\"span\")\n",
    "    kosa_good = int(kosa[0].string)\n",
    "    kosa_bad = int(kosa[1].string)\n",
    "\n",
    "    # 価格\n",
    "    kakaku = trs[5].find_all(\"span\")\n",
    "    kakaku_good = int(kakaku[0].string)\n",
    "    kakaku_bad = int(kakaku[1].string)\n",
    "\n",
    "    # デザイン\n",
    "    design = trs[6].find_all(\"span\")\n",
    "    design_good = int(design[0].string)\n",
    "    design_bad = int(design[1].string)\n",
    "\n",
    "    score_li = [\n",
    "        [meigara_id, \"味\", aji_good, aji_bad],\n",
    "        [meigara_id, \"香り\", kaori_good, kaori_bad],\n",
    "        [meigara_id, \"濃さ\", kosa_good, kosa_bad],\n",
    "        [meigara_id, \"価格\", kakaku_good, kakaku_bad],\n",
    "        [meigara_id, \"デザイン\", design_good, design_bad]\n",
    "    ]\n",
    "\n",
    "    score_df = pd.DataFrame(\n",
    "        score_li,\n",
    "        columns=[\"meigara_id\", \"name\", \"good_score\", \"bad_score\"]\n",
    "    )\n",
    "    \n",
    "    return score_df"
   ]
  },
  {
   "cell_type": "code",
   "execution_count": 10,
   "metadata": {},
   "outputs": [],
   "source": [
    "# コメント一覧取得関数\n",
    "def parse_comments_table(soup, meigara_id):\n",
    "    reviews_table = soup.body.find_all(\"table\")[-1]\n",
    "\n",
    "    dts = [\n",
    "        [meigara_id,\n",
    "         int(dt.contents[0].get(\"name\").replace(\"voice\", \"\")),\n",
    "         dt.contents[3].string]\n",
    "        for dt\n",
    "        in reviews_table.find_all(\"dt\")\n",
    "    ]\n",
    "    dts_df = pd.DataFrame(\n",
    "        dts,\n",
    "        columns=[\"meigara_id\", \"toukou_id\", \"title\"]\n",
    "    )\n",
    "    \n",
    "    # <dd>〜</dd> の処理\n",
    "    dds = [\n",
    "        [dd.contents[-1].text.split(\"（\")[1].split(\"）\")[0],\n",
    "         dd.contents[-1].find(\"a\").string,\n",
    "         dd.contents[-2].replace(\"\\n\", \" \")]\n",
    "        for dd\n",
    "        in reviews_table.find_all(\"dd\")\n",
    "    ]\n",
    "    dds_df = pd.DataFrame(\n",
    "        dds,\n",
    "        columns=[\"created_at\", \"user_name\", \"text\"]\n",
    "    )\n",
    "    dds_df[\"created_at\"] = dds_df[\"created_at\"].apply(\n",
    "        lambda x: datetime.strptime(x, '%Y年%m月%d日 %H時%M分%S秒')\n",
    "        )\n",
    "    \n",
    "    # 結合\n",
    "    comments_df = pd.concat([dts_df, dds_df], axis=1)\n",
    "\n",
    "    return comments_df"
   ]
  },
  {
   "cell_type": "code",
   "execution_count": 11,
   "metadata": {},
   "outputs": [],
   "source": [
    "# すべての詳細ページからデータを取得するための関数\n",
    "def parse_maigara_detail_page(row):\n",
    "    print(\n",
    "        datetime.now().isoformat(sep=\" \"),\n",
    "        row[\"meigara_id\"],\n",
    "        row[\"meigara\"]\n",
    "    )\n",
    "    \n",
    "    # 連続アクセス時の負荷軽減\n",
    "    time.sleep(WAIT_TIME)\n",
    "    \n",
    "    # クローリング\n",
    "    response = requests.get(row[\"detail_url\"])\n",
    "    if not response.status_code == 200:\n",
    "        raise ValueError(\"Invalid response\")\n",
    "    #response.encoding = 'euc_jp'\n",
    "    # ゴミとなる文字群を除去\n",
    "    preprocessed_html_string = response.text.replace(\"<br>\", \"\\n\")\n",
    "    preprocessed_html_string = preprocessed_html_string.replace(\"\\r\", \"\")\n",
    "    preprocessed_html_string = preprocessed_html_string.replace(\"　\", \" \")\n",
    "    soup = BeautifulSoup(preprocessed_html_string, \"lxml\")\n",
    "    \n",
    "    # 評価スコアの取得 & 出力\n",
    "    score_df = parse_scores_table(soup, row[\"meigara_id\"])\n",
    "    scores_path = MEIGARA_SCORES_DIR + str(row[\"meigara_id\"]) + \".csv\"\n",
    "    score_df.to_csv(\n",
    "        scores_path,\n",
    "        encoding=\"utf-8\",\n",
    "        sep=\",\",\n",
    "        index=False,\n",
    "        quoting=csv.QUOTE_NONNUMERIC\n",
    "    )\n",
    "    \n",
    "    return"
   ]
  },
  {
   "cell_type": "markdown",
   "metadata": {},
   "source": [
    "#### 4.2. コメントページの取得と整形用の処理"
   ]
  },
  {
   "cell_type": "code",
   "execution_count": 12,
   "metadata": {},
   "outputs": [],
   "source": [
    "def get_max_page(row):\n",
    "    # 連続アクセス時の負荷軽減\n",
    "    time.sleep(WAIT_TIME)\n",
    "    \n",
    "    # クローリング\n",
    "    url = urlparse.urljoin(row[\"detail_url\"], 'voice')\n",
    "    response = requests.get(url)\n",
    "    if not response.status_code == 200:\n",
    "        raise ValueError(\"Invalid response\")\n",
    "    soup = BeautifulSoup(response.text, \"lxml\")\n",
    "    \n",
    "    next_page = soup.body.select(\"li.next a\")\n",
    "    \n",
    "    if len(next_page) == 2:\n",
    "        max_page = int(next_page[1].get(\"href\").replace(\"?p=\", \"\"))\n",
    "    elif len(next_page) == 1:\n",
    "        max_page = int(next_page[0].get(\"href\").replace(\"?p=\", \"\"))\n",
    "    else:\n",
    "        max_page = 1\n",
    "    \n",
    "    return max_page\n"
   ]
  },
  {
   "cell_type": "code",
   "execution_count": 13,
   "metadata": {},
   "outputs": [],
   "source": [
    "#  コメントページの取得\n",
    "def get_comment_page(url):\n",
    "    # 連続アクセス時の負荷軽減\n",
    "    time.sleep(WAIT_TIME)\n",
    "    \n",
    "    # クローリング\n",
    "    response = requests.get(url)\n",
    "    if not response.status_code == 200:\n",
    "        raise ValueError(\"Invalid response\")\n",
    "    \n",
    "    # ゴミとなる文字群を除去\n",
    "    preprocessed_html_string = response.text.replace(\"<br>\", \"\\n\")\n",
    "    preprocessed_html_string = preprocessed_html_string.replace(\"\\r\", \"\")\n",
    "    preprocessed_html_string = preprocessed_html_string.replace(\"　\", \" \")\n",
    "    soup = BeautifulSoup(preprocessed_html_string, \"lxml\")\n",
    "    \n",
    "    return soup"
   ]
  },
  {
   "cell_type": "code",
   "execution_count": 14,
   "metadata": {},
   "outputs": [],
   "source": [
    "# コメント一覧取得関数\n",
    "def parse_comments_table(soup):\n",
    "    touroku_id = [n.contents[0].replace(\"日本酒口コミNo.\", \"\") for n in soup.body.find_all(\"span\",class_=\"voiceno\")]\n",
    "    title = [n.contents[1].get_text().replace(\"\\xa0>\\xa0\", \":\") for n in soup.body.find_all(\"h4\",class_=\"voicetitle\")]\n",
    "    voicenaiyo = [n.get_text() for n in soup.body.find_all(\"div\",class_=\"voicenaiyo\")]\n",
    "    usrname = [n.contents[0].get_text() for n in soup.body.find_all(\"div\",class_=\"voicemember\")]\n",
    "    update = [n.contents[2].get_text() for n in soup.body.find_all(\"div\",class_=\"voicemember\")]\n",
    "\n",
    "    commdf = pd.DataFrame(list(zip(touroku_id ,title,voicenaiyo,usrname,update)), columns=['touroku_id ','title', 'voicenaiyo', 'user_name', 'created_at'])\n",
    "    commdf[\"created_at\"] = commdf[\"created_at\"].apply(lambda x: datetime.strptime(x, '（%Y年%m月%d日 %H時%M分%S秒）'))\n",
    "    \n",
    "    return commdf"
   ]
  },
  {
   "cell_type": "code",
   "execution_count": 15,
   "metadata": {},
   "outputs": [],
   "source": [
    "# すべての詳細ページからデータを取得するための関数\n",
    "def parse_maigara_detail_comments(row):\n",
    "    \n",
    "    max_page = get_max_page(row)\n",
    "    page_num = 1\n",
    "    \n",
    "    while page_num <= max_page:\n",
    "        print(datetime.now().isoformat(sep=\" \"),\n",
    "              row[\"meigara_id\"],\n",
    "              row[\"meigara\"],\n",
    "              'コメント取得中',\n",
    "              str(page_num)+'/'+str(max_page)\n",
    "             )\n",
    "        \n",
    "        url = urlparse.urljoin(row[\"detail_url\"], 'voice', '?p='+str(page_num))\n",
    "        soup = get_comment_page(url)\n",
    "        _df = parse_comments_table(soup)\n",
    "        \n",
    "        if page_num == 1:\n",
    "            comments_df = _df.copy()\n",
    "        else:\n",
    "            comments_df = pd.concat([comments_df, _df])\n",
    "        page_num += 1\n",
    " \n",
    "    # 評価コメントの取得 & 出力\n",
    "    comments_df['meigara_id'] = row['meigara_id']\n",
    "    comments_df= comments_df[['meigara_id','touroku_id ','title', 'voicenaiyo', 'user_name', 'created_at']]\n",
    "    comments_path = MEIGARA_COMMENTS_DIR + str(row[\"meigara_id\"]) + \".csv\"\n",
    "    comments_df.to_csv(\n",
    "        comments_path,\n",
    "        encoding=\"utf-8\",\n",
    "        sep=\",\",\n",
    "        index=False,\n",
    "        quoting=csv.QUOTE_NONNUMERIC\n",
    "    )\n",
    "    return"
   ]
  },
  {
   "cell_type": "markdown",
   "metadata": {},
   "source": [
    "#### 4.3. 取得整形処理実行"
   ]
  },
  {
   "cell_type": "code",
   "execution_count": null,
   "metadata": {},
   "outputs": [
    {
     "name": "stdout",
     "output_type": "stream",
     "text": [
      "2021-02-18 22:50:02.885765 1 獺祭\n",
      "2021-02-18 22:50:11.075726 1 獺祭 コメント取得中 1/14\n",
      "2021-02-18 22:50:14.940341 1 獺祭 コメント取得中 2/14\n",
      "2021-02-18 22:50:18.772403 1 獺祭 コメント取得中 3/14\n",
      "2021-02-18 22:50:22.735544 1 獺祭 コメント取得中 4/14\n",
      "2021-02-18 22:50:26.587229 1 獺祭 コメント取得中 5/14\n",
      "2021-02-18 22:50:30.460327 1 獺祭 コメント取得中 6/14\n",
      "2021-02-18 22:50:34.386971 1 獺祭 コメント取得中 7/14\n",
      "2021-02-18 22:50:38.306937 1 獺祭 コメント取得中 8/14\n",
      "2021-02-18 22:50:42.103497 1 獺祭 コメント取得中 9/14\n",
      "2021-02-18 22:50:45.955404 1 獺祭 コメント取得中 10/14\n",
      "2021-02-18 22:50:49.867736 1 獺祭 コメント取得中 11/14\n",
      "2021-02-18 22:50:53.715069 1 獺祭 コメント取得中 12/14\n",
      "2021-02-18 22:50:57.587474 1 獺祭 コメント取得中 13/14\n",
      "2021-02-18 22:51:01.582058 1 獺祭 コメント取得中 14/14\n",
      "2021-02-18 22:51:05.390216 2 醸し人九平次\n",
      "2021-02-18 22:51:13.339246 2 醸し人九平次 コメント取得中 1/12\n",
      "2021-02-18 22:51:17.213729 2 醸し人九平次 コメント取得中 2/12\n",
      "2021-02-18 22:51:21.060548 2 醸し人九平次 コメント取得中 3/12\n",
      "2021-02-18 22:51:24.900865 2 醸し人九平次 コメント取得中 4/12\n",
      "2021-02-18 22:51:28.939805 2 醸し人九平次 コメント取得中 5/12\n",
      "2021-02-18 22:51:32.797791 2 醸し人九平次 コメント取得中 6/12\n",
      "2021-02-18 22:51:36.626723 2 醸し人九平次 コメント取得中 7/12\n",
      "2021-02-18 22:51:40.482255 2 醸し人九平次 コメント取得中 8/12\n",
      "2021-02-18 22:51:44.275802 2 醸し人九平次 コメント取得中 9/12\n",
      "2021-02-18 22:51:48.201336 2 醸し人九平次 コメント取得中 10/12\n",
      "2021-02-18 22:51:52.132083 2 醸し人九平次 コメント取得中 11/12\n",
      "2021-02-18 22:51:56.048745 2 醸し人九平次 コメント取得中 12/12\n",
      "2021-02-18 22:51:59.914884 3 田酒\n",
      "2021-02-18 22:52:08.008183 3 田酒 コメント取得中 1/7\n",
      "2021-02-18 22:52:11.987235 3 田酒 コメント取得中 2/7\n",
      "2021-02-18 22:52:15.826236 3 田酒 コメント取得中 3/7\n",
      "2021-02-18 22:52:19.685920 3 田酒 コメント取得中 4/7\n",
      "2021-02-18 22:52:23.502456 3 田酒 コメント取得中 5/7\n",
      "2021-02-18 22:52:27.463942 3 田酒 コメント取得中 6/7\n",
      "2021-02-18 22:52:32.352541 3 田酒 コメント取得中 7/7\n",
      "2021-02-18 22:52:36.278217 4 出羽桜\n",
      "2021-02-18 22:52:44.959880 4 出羽桜 コメント取得中 1/7\n",
      "2021-02-18 22:52:48.862954 4 出羽桜 コメント取得中 2/7\n",
      "2021-02-18 22:52:52.764949 4 出羽桜 コメント取得中 3/7\n",
      "2021-02-18 22:52:56.598275 4 出羽桜 コメント取得中 4/7\n",
      "2021-02-18 22:53:00.442441 4 出羽桜 コメント取得中 5/7\n",
      "2021-02-18 22:53:04.230288 4 出羽桜 コメント取得中 6/7\n",
      "2021-02-18 22:53:08.002585 4 出羽桜 コメント取得中 7/7\n",
      "2021-02-18 22:53:11.909296 5 黒龍\n",
      "2021-02-18 22:53:20.125277 5 黒龍 コメント取得中 1/10\n",
      "2021-02-18 22:53:24.024777 5 黒龍 コメント取得中 2/10\n",
      "2021-02-18 22:53:27.927590 5 黒龍 コメント取得中 3/10\n",
      "2021-02-18 22:53:31.875947 5 黒龍 コメント取得中 4/10\n",
      "2021-02-18 22:53:35.970469 5 黒龍 コメント取得中 5/10\n",
      "2021-02-18 22:53:39.868550 5 黒龍 コメント取得中 6/10\n",
      "2021-02-18 22:53:43.642769 5 黒龍 コメント取得中 7/10\n",
      "2021-02-18 22:53:47.405146 5 黒龍 コメント取得中 8/10\n",
      "2021-02-18 22:53:51.330466 5 黒龍 コメント取得中 9/10\n",
      "2021-02-18 22:53:55.326319 5 黒龍 コメント取得中 10/10\n",
      "2021-02-18 22:53:59.246679 6 風の森\n",
      "2021-02-18 22:54:07.111163 6 風の森 コメント取得中 1/3\n",
      "2021-02-18 22:54:10.976082 6 風の森 コメント取得中 2/3\n",
      "2021-02-18 22:54:14.984390 6 風の森 コメント取得中 3/3\n",
      "2021-02-18 22:54:18.813180 7 飛露喜\n",
      "2021-02-18 22:54:26.914692 7 飛露喜 コメント取得中 1/5\n",
      "2021-02-18 22:54:30.788941 7 飛露喜 コメント取得中 2/5\n",
      "2021-02-18 22:54:34.783964 7 飛露喜 コメント取得中 3/5\n",
      "2021-02-18 22:54:38.628124 7 飛露喜 コメント取得中 4/5\n",
      "2021-02-18 22:54:42.467574 7 飛露喜 コメント取得中 5/5\n",
      "2021-02-18 22:54:46.310316 8 新政\n",
      "2021-02-18 22:54:54.210459 8 新政 コメント取得中 1/6\n",
      "2021-02-18 22:54:58.101114 8 新政 コメント取得中 2/6\n",
      "2021-02-18 22:55:01.991705 8 新政 コメント取得中 3/6\n",
      "2021-02-18 22:55:05.883255 8 新政 コメント取得中 4/6\n",
      "2021-02-18 22:55:09.670901 8 新政 コメント取得中 5/6\n",
      "2021-02-18 22:55:13.565315 8 新政 コメント取得中 6/6\n",
      "2021-02-18 22:55:17.456757 9 鳳凰美田\n",
      "2021-02-18 22:55:25.622791 9 鳳凰美田 コメント取得中 1/5\n",
      "2021-02-18 22:55:29.530469 9 鳳凰美田 コメント取得中 2/5\n",
      "2021-02-18 22:55:33.368161 9 鳳凰美田 コメント取得中 3/5\n",
      "2021-02-18 22:55:37.322172 9 鳳凰美田 コメント取得中 4/5\n",
      "2021-02-18 22:55:41.317586 9 鳳凰美田 コメント取得中 5/5\n",
      "2021-02-18 22:55:45.259376 10 鍋島\n",
      "2021-02-18 22:55:53.305584 10 鍋島 コメント取得中 1/3\n",
      "2021-02-18 22:55:57.287958 10 鍋島 コメント取得中 2/3\n",
      "2021-02-18 22:56:01.284917 10 鍋島 コメント取得中 3/3\n",
      "2021-02-18 22:56:05.134012 11 雪の茅舎\n",
      "2021-02-18 22:56:13.367867 11 雪の茅舎 コメント取得中 1/3\n",
      "2021-02-18 22:56:17.226845 11 雪の茅舎 コメント取得中 2/3\n",
      "2021-02-18 22:56:22.177192 11 雪の茅舎 コメント取得中 3/3\n",
      "2021-02-18 22:56:26.009003 12 十四代\n",
      "2021-02-18 22:56:33.696403 12 十四代 コメント取得中 1/9\n",
      "2021-02-18 22:56:37.453291 12 十四代 コメント取得中 2/9\n",
      "2021-02-18 22:56:41.428269 12 十四代 コメント取得中 3/9\n",
      "2021-02-18 22:56:45.215924 12 十四代 コメント取得中 4/9\n",
      "2021-02-18 22:56:49.055394 12 十四代 コメント取得中 5/9\n",
      "2021-02-18 22:56:52.853656 12 十四代 コメント取得中 6/9\n",
      "2021-02-18 22:56:56.623466 12 十四代 コメント取得中 7/9\n",
      "2021-02-18 22:57:00.387039 12 十四代 コメント取得中 8/9\n",
      "2021-02-18 22:57:04.140898 12 十四代 コメント取得中 9/9\n",
      "2021-02-18 22:57:08.045908 13 くどき上手\n",
      "2021-02-18 22:57:16.372721 13 くどき上手 コメント取得中 1/6\n",
      "2021-02-18 22:57:20.146256 13 くどき上手 コメント取得中 2/6\n",
      "2021-02-18 22:57:24.118262 13 くどき上手 コメント取得中 3/6\n",
      "2021-02-18 22:57:27.988564 13 くどき上手 コメント取得中 4/6\n",
      "2021-02-18 22:57:31.983112 13 くどき上手 コメント取得中 5/6\n",
      "2021-02-18 22:57:35.905813 13 くどき上手 コメント取得中 6/6\n",
      "2021-02-18 22:57:39.799907 14 菊姫\n",
      "2021-02-18 22:57:47.742233 14 菊姫 コメント取得中 1/5\n",
      "2021-02-18 22:57:51.675778 14 菊姫 コメント取得中 2/5\n",
      "2021-02-18 22:57:55.520493 14 菊姫 コメント取得中 3/5\n",
      "2021-02-18 22:57:59.449786 14 菊姫 コメント取得中 4/5\n",
      "2021-02-18 22:58:03.363525 14 菊姫 コメント取得中 5/5\n",
      "2021-02-18 22:58:07.141321 15 浦霞\n",
      "2021-02-18 22:58:15.890808 15 浦霞 コメント取得中 1/4\n",
      "2021-02-18 22:58:19.747406 15 浦霞 コメント取得中 2/4\n",
      "2021-02-18 22:58:23.600706 15 浦霞 コメント取得中 3/4\n",
      "2021-02-18 22:58:27.385934 15 浦霞 コメント取得中 4/4\n",
      "2021-02-18 22:58:31.353911 16 天狗舞\n",
      "2021-02-18 22:58:39.349495 16 天狗舞 コメント取得中 1/5\n",
      "2021-02-18 22:58:43.430344 16 天狗舞 コメント取得中 2/5\n",
      "2021-02-18 22:58:47.289770 16 天狗舞 コメント取得中 3/5\n",
      "2021-02-18 22:58:51.174838 16 天狗舞 コメント取得中 4/5\n",
      "2021-02-18 22:58:55.097651 16 天狗舞 コメント取得中 5/5\n",
      "2021-02-18 22:58:59.274704 17 八海山\n",
      "2021-02-18 22:59:07.661202 17 八海山 コメント取得中 1/5\n",
      "2021-02-18 22:59:11.568494 17 八海山 コメント取得中 2/5\n",
      "2021-02-18 22:59:15.452949 17 八海山 コメント取得中 3/5\n",
      "2021-02-18 22:59:19.439191 17 八海山 コメント取得中 4/5\n",
      "2021-02-18 22:59:23.226912 17 八海山 コメント取得中 5/5\n",
      "2021-02-18 22:59:27.221487 18 神亀\n",
      "2021-02-18 22:59:35.310908 18 神亀 コメント取得中 1/3\n",
      "2021-02-18 22:59:39.168270 18 神亀 コメント取得中 2/3\n",
      "2021-02-18 22:59:42.992321 18 神亀 コメント取得中 3/3\n",
      "2021-02-18 22:59:46.853994 19 鶴齢\n",
      "2021-02-18 22:59:55.485210 19 鶴齢 コメント取得中 1/2\n",
      "2021-02-18 22:59:59.376994 19 鶴齢 コメント取得中 2/2\n",
      "2021-02-18 23:00:03.319832 20 久保田\n",
      "2021-02-18 23:00:11.458351 20 久保田 コメント取得中 1/7\n",
      "2021-02-18 23:00:15.455539 20 久保田 コメント取得中 2/7\n",
      "2021-02-18 23:00:19.447280 20 久保田 コメント取得中 3/7\n",
      "2021-02-18 23:00:23.546419 20 久保田 コメント取得中 4/7\n",
      "2021-02-18 23:00:27.539670 20 久保田 コメント取得中 5/7\n",
      "2021-02-18 23:00:31.879771 20 久保田 コメント取得中 6/7\n",
      "2021-02-18 23:00:35.730331 20 久保田 コメント取得中 7/7\n",
      "2021-02-18 23:00:39.624664 21 楯野川\n",
      "2021-02-18 23:00:47.799507 21 楯野川 コメント取得中 1/2\n",
      "2021-02-18 23:00:51.677718 21 楯野川 コメント取得中 2/2\n",
      "2021-02-18 23:00:55.554939 22 大七\n",
      "2021-02-18 23:01:03.284436 22 大七 コメント取得中 1/4\n",
      "2021-02-18 23:01:07.163876 22 大七 コメント取得中 2/4\n",
      "2021-02-18 23:01:11.058735 22 大七 コメント取得中 3/4\n",
      "2021-02-18 23:01:14.953989 22 大七 コメント取得中 4/4\n",
      "2021-02-18 23:01:18.723106 23 雁木\n",
      "2021-02-18 23:01:27.034690 23 雁木 コメント取得中 1/3\n",
      "2021-02-18 23:01:30.820900 23 雁木 コメント取得中 2/3\n"
     ]
    }
   ],
   "source": [
    "for idx, row in meigara_master_df.iterrows():\n",
    "    parse_maigara_detail_page(row)\n",
    "    parse_maigara_detail_comments(row)"
   ]
  }
 ],
 "metadata": {
  "anaconda-cloud": {},
  "kernelspec": {
   "display_name": "Python 3",
   "language": "python",
   "name": "python3"
  },
  "language_info": {
   "codemirror_mode": {
    "name": "ipython",
    "version": 3
   },
   "file_extension": ".py",
   "mimetype": "text/x-python",
   "name": "python",
   "nbconvert_exporter": "python",
   "pygments_lexer": "ipython3",
   "version": "3.9.1"
  },
  "nbpresent": {
   "slides": {},
   "themes": {}
  }
 },
 "nbformat": 4,
 "nbformat_minor": 1
}
